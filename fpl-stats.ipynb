import requests
import pandas as pd
pd.options.mode.chained_assignment = None  # default='warn'
import numpy as np

url = 'https://fantasy.premierleague.com/api/bootstrap-static/'
r = requests.get(url)
json = r.json()
json.keys()

elements_df = pd.DataFrame(json['elements'])
elements_types_df = pd.DataFrame(json['element_types'])
teams_df = pd.DataFrame(json['teams'])

slim_elements_df = elements_df[['second_name','team','element_type','selected_by_percent','now_cost','minutes','transfers_in','value_season','total_points']]
slim_elements_df['position'] = slim_elements_df.element_type.map(elements_types_df.set_index('id').singular_name)
slim_elements_df['team'] = slim_elements_df.team.map(teams_df.set_index('id').name)
slim_elements_df['value'] = slim_elements_df.value_season.astype(float)
slim_elements_df = slim_elements_df.loc[slim_elements_df.value > 0]

fwd_df = slim_elements_df.loc[slim_elements_df.position == 'Forward']
mid_df = slim_elements_df.loc[slim_elements_df.position == 'Midfielder']
def_df = slim_elements_df.loc[slim_elements_df.position == 'Defender']
goal_df = slim_elements_df.loc[slim_elements_df.position == 'Goalkeeper']
team_df = slim_elements_df.loc[slim_elements_df.team == 'West Ham']

goal_df.sort_values('value',ascending=False).head(20)
def_df.sort_values('value',ascending=False).head(20)
mid_df.sort_values('value',ascending=False).head(20)
fwd_df.sort_values('value',ascending=False).head(20)
team_df.sort_values('value',ascending=False).head(20)
