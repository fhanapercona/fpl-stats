import requests
import pandas as pd
pd.options.mode.chained_assignment = None  # default='warn'
import numpy as np
import psycopg2
from sqlalchemy import create_engine
from datetime import datetime

conn_string = 'postgresql://user:pass@ip:port/database'
db = create_engine(conn_string)
conn = db.connect()

url = 'https://fantasy.premierleague.com/api/bootstrap-static/'
r = requests.get(url)
json = r.json()
json.keys()

elements_df = pd.DataFrame(json['elements'])
elements_types_df = pd.DataFrame(json['element_types'])
teams_df = pd.DataFrame(json['teams'])
events_df = pd.DataFrame(json['events'])

slim_elements_df = elements_df[['second_name','team','element_type','selected_by_percent','now_cost','minutes','transfers_in','value_season','total_points']]
slim_elements_df['position'] = slim_elements_df.element_type.map(elements_types_df.set_index('id').singular_name)
slim_elements_df['team'] = slim_elements_df.team.map(teams_df.set_index('id').name)
slim_elements_df['value'] = slim_elements_df.value_season.astype(float)
slim_elements_df = slim_elements_df.loc[slim_elements_df.value > 0]
slim_elements_df['event_date'] = datetime.today().strftime('%Y-%m-%d')

fwd_df = slim_elements_df.loc[slim_elements_df.position == 'Forward']
mid_df = slim_elements_df.loc[slim_elements_df.position == 'Midfielder']
def_df = slim_elements_df.loc[slim_elements_df.position == 'Defender']
goal_df = slim_elements_df.loc[slim_elements_df.position == 'Goalkeeper']

team_df = slim_elements_df.loc[slim_elements_df.team == 'West Ham']
team_df['event_date'] = datetime.today().strftime('%Y-%m-%d')

# instert current player data
elements_df['position'] = elements_df.element_type.map(elements_types_df.set_index('id').singular_name)
elements_df['team'] = elements_df.team.map(teams_df.set_index('id').name)
elements_df['event_date'] = datetime.today().strftime('%Y-%m-%d')
elements_df.to_sql('elements',con=conn,schema='fpl-stats',if_exists='append')

# inster current team data
teams_df.to_sql('teams',con=conn,schema='fpl-stats',if_exists='append')

# inster short current player data
slim_elements_df.to_sql('players',con=conn,schema='fpl-stats',if_exists='replace')

# inster events data
events.to_sql('events',con=conn,schema='fpl-stats',if_exists='replace')

# conn = psycopg2.connect(conn_string)
# conn.autocommit = True
# cursor = conn.cursor()
#  
# sql1 = '''select * from players;'''
# cursor.execute(sql1)
# for i in cursor.fetchall():
#     print(i)
  
# conn.commit()
# conn.close()

goal_df.sort_values('value',ascending=False).head(100)
